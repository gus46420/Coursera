{
 "cells": [
  {
   "cell_type": "markdown",
   "id": "c5816691-077d-4010-bf95-dd6d5b3bd2e3",
   "metadata": {},
   "source": [
    "# My Jupyter Notebook on IBM Watson Studio"
   ]
  },
  {
   "cell_type": "markdown",
   "id": "750a9013-37ec-49c5-aac2-f0976d8a134a",
   "metadata": {},
   "source": [
    "__My name is Paphaphat Amornpatarakit__ \n",
    "\n",
    "I would like to be a data scienteist"
   ]
  },
  {
   "cell_type": "markdown",
   "id": "af5ad970-e247-43f4-be85-c65253520471",
   "metadata": {},
   "source": [
    "_I am interested in data science because I love Math and Calculation, I applied bachelor's degree for Electrical engineering but it doesn't suit me. However, when I started looking at Data-related field I think this is the fittest one for me and deeper I find the information about data science the more I'm in love with it._"
   ]
  },
  {
   "cell_type": "markdown",
   "id": "c136546f-f7cf-4e2c-8f29-6a497bba6420",
   "metadata": {},
   "source": [
    "It would be a simple application, maybe the simplest one ever in the world, It would recieve user's name as input and display value in a really cute sentence."
   ]
  },
  {
   "cell_type": "code",
   "execution_count": 6,
   "id": "ab5edac9-f99d-4aea-ac80-40b7c025db9e",
   "metadata": {},
   "outputs": [
    {
     "name": "stdin",
     "output_type": "stream",
     "text": [
      "What's your name:  Gus\n"
     ]
    },
    {
     "name": "stdout",
     "output_type": "stream",
     "text": [
      "(Gus want to be a data scientist!!.)\n"
     ]
    }
   ],
   "source": [
    "name = input(\"What\\'s your name: \")\n",
    "print(f\"({name} want to be a data scientist!!.)\")"
   ]
  },
  {
   "cell_type": "markdown",
   "id": "82bca698-d91e-4a94-bb0d-4d046cc81e52",
   "metadata": {},
   "source": [
    "This section would be final part for one of the most useful course. (link attached below)\n",
    "\n",
    "***\n",
    "\n",
    "<a href=\"https://www.coursera.org/learn/open-source-tools-for-data-science/home/week/1\">Link to the Course</a>\n",
    "\n",
    "---\n",
    "\n",
    "Last but not least:\n",
    "- I would like to thank for every instructors in this course.\n",
    "- I helped me a lot in my very new field.\n"
   ]
  }
 ],
 "metadata": {
  "kernelspec": {
   "display_name": "Python",
   "language": "python",
   "name": "conda-env-python-py"
  },
  "language_info": {
   "codemirror_mode": {
    "name": "ipython",
    "version": 3
   },
   "file_extension": ".py",
   "mimetype": "text/x-python",
   "name": "python",
   "nbconvert_exporter": "python",
   "pygments_lexer": "ipython3",
   "version": "3.7.12"
  }
 },
 "nbformat": 4,
 "nbformat_minor": 5
}
